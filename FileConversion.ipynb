{
 "cells": [
  {
   "cell_type": "code",
   "execution_count": 4,
   "metadata": {},
   "outputs": [],
   "source": [
    "import pandas as pd\n",
    "df = pd.read_csv ('static/data/listings.csv')\n",
    "df.to_json ('static/data/listings.json')\n",
    "\n",
    "kdf = pd.read_csv ('static/data/listings_Kauai.csv')\n",
    "kdf.to_json ('static/data/listings_Kauai.json')"
   ]
  },
  {
   "cell_type": "code",
   "execution_count": 1,
   "metadata": {},
   "outputs": [],
   "source": [
    "import pandas as pd\n",
    "kpdf = pd.read_csv ('static/data/listings_KP.csv')\n",
    "kpdf.to_json ('static/data/listings_KP.json')"
   ]
  },
  {
   "cell_type": "code",
   "execution_count": 3,
   "metadata": {},
   "outputs": [],
   "source": [
    "import pandas as pd\n",
    "ckpdf = pd.read_csv ('static/data/listings_KP_Clean.csv')\n",
    "ckpdf.to_json ('static/data/listings_KP_Clean.json')"
   ]
  },
  {
   "cell_type": "code",
   "execution_count": null,
   "metadata": {},
   "outputs": [],
   "source": [
    "import pandas as pd\n",
    "rckpdf = pd.read_csv ('static/data/listings_KP_Clean_R.csv')\n",
    "rckpdf.to_json ('static/data/listings_KP_Clean_R.json')"
   ]
  }
 ],
 "metadata": {
  "kernelspec": {
   "display_name": "base",
   "language": "python",
   "name": "python3"
  },
  "language_info": {
   "codemirror_mode": {
    "name": "ipython",
    "version": 3
   },
   "file_extension": ".py",
   "mimetype": "text/x-python",
   "name": "python",
   "nbconvert_exporter": "python",
   "pygments_lexer": "ipython3",
   "version": "3.11.5"
  }
 },
 "nbformat": 4,
 "nbformat_minor": 2
}
